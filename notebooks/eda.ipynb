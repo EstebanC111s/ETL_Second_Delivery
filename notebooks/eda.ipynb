{
  "cells": [
    {
      "cell_type": "markdown",
      "metadata": {},
      "source": [
        "# EDA\n",
        "Use this notebook to explore the data after extraction if needed."
      ]
    }
  ],
  "metadata": {
    "language_info": {
      "name": "python"
    }
  },
  "nbformat": 4,
  "nbformat_minor": 5
}